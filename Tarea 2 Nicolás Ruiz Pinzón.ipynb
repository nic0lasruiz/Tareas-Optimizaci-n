{
 "cells": [
  {
   "cell_type": "markdown",
   "id": "a5aa7b97",
   "metadata": {},
   "source": [
    "# Ejercicios Tarea 2"
   ]
  },
  {
   "cell_type": "markdown",
   "id": "448e8ae7",
   "metadata": {},
   "source": [
    "* **2.1.** Sea C $\\subseteq$ $\\textbf{R}^n$ un conjunto convexo, con $x_1,...,x_k \\in C$, y sea $\\theta_1,...,\\theta_k\\in\\textbf{R}$ que satisfacen que $\\theta_i \\geq 0$, y $\\theta_1 +\\dotsm + \\theta_k = 1$. Mostrar que $\\theta_1x_1 +\\dotsm + \\theta_kx_k \\in C$."
   ]
  },
  {
   "cell_type": "markdown",
   "id": "55418ebb",
   "metadata": {},
   "source": [
    "Se puede demostrar por inducción sobre $k$:\n",
    "\n",
    "$\\textit{Caso base}: k=2$\n",
    "\n",
    "Sean $x_1, x_2 \\in C$ y $\\theta\\in\\textbf{R}$, con $\\theta\\geq0$. Por definición de conjunto convexo, se satisface que $\\theta x_1 + (1-\\theta)x_2 \\in C$ , y ya tenemos el caso base."
   ]
  },
  {
   "cell_type": "markdown",
   "id": "02b6c88a",
   "metadata": {},
   "source": [
    "$\\textit{Paso inductivo}:$\n",
    "\n",
    "Supongamos que para todo $x_1,...,x_{n-1}\\in C$ y $\\theta_1,...,\\theta_{n-1}\\in\\textbf{R}$ con $\\theta_i\\geq 0$ y $\\sum_{i=1}^{n-1}\\theta_i = 1$ para $1\\leq i\\leq n-1$, se tiene que $\\theta_1x_1 + \\dotsm + \\theta_{n-1}x_{n-1}\\in C$.\n",
    "\n",
    "Como $\\theta_1x_1 +\\dotsm + \\theta_{n-1}x_{n-1} \\in C$, entonces por definición de convexidad, $\\theta(\\theta_1x_1 +\\dotsm + \\theta_{n-1}x_{n-1}) + (1-\\theta)x_n \\in C$ con $x_n \\in C$, $\\theta\\in\\textbf{R}$ y $\\theta\\geq 0$.\n",
    "\n",
    "Eso quiere decir que $(\\theta\\theta_1)x_1 +\\dotsm +(\\theta\\theta_{n-1})x_{n-1} + (1-\\theta)x_n \\in C$ donde $\\theta\\theta_1\\geq 0$ para $1\\leq i\\leq n-1$, por ser $\\theta\\geq 0$, y también, como $\\sum_{i=1}^{n-1}\\theta_i = 1$, se tiene que $\\sum_{i=1}^{n-1}\\theta\\theta_i = \\theta$ y gracias a esto podemos concluir que $\\sum_{i=1}^{n-1}\\theta\\theta_i + (1-\\theta) = \\theta + (1-\\theta) = 1$\n",
    "\n",
    "Luego, se tiene que $\\theta_1^\\prime x_1 +\\dotsm + \\theta_{n-1}^{\\prime}x_{n-1} + \\theta_n^\\prime x_n \\in C$ para $\\theta_k^\\prime \\in\\textbf{R}$, tales que $\\theta_k^\\prime \\geq 0$ para $1\\leq k\\leq n$ y $\\sum_{k=1}^{n}\\theta_k^\\prime = 1$.\n",
    "\n",
    "Por lo tanto, por inducción matemática, concluimos que la afirmación se tiene para todo $k\\in\\textbf{N}$."
   ]
  },
  {
   "cell_type": "markdown",
   "id": "b36cb139",
   "metadata": {},
   "source": [
    "* **2.3** Probar que si $C$ es un conjunto cerrado y es convexo de punto-medio, entonces $C$ es convexo."
   ]
  },
  {
   "cell_type": "markdown",
   "id": "13aeb85d",
   "metadata": {},
   "source": [
    "Queremos probar que dados $x_1, x_2 \\in C$, se tendría que $\\theta x_1 + (1-\\theta)x_2 \\in C$ con $0\\leq \\theta\\leq 1$.\n",
    "\n",
    "Sabemos que, por hipótesis, $\\frac{1}{2}(x_1 + x_2) \\in C$, para cuales quiera $x_1,x_2 \\in C$. Eso quiere decir que $C$ contiene a todos los puntos de la  forma $x = x_1 + \\frac{k_n}{2^n}(x_2 - x_1)$ donde $n\\in\\textbf{N}$ y $k_n = 1,...,2^n$.\n",
    "\n"
   ]
  },
  {
   "cell_type": "markdown",
   "id": "dfc1d384",
   "metadata": {},
   "source": [
    "Puesto que $C$ es cerrado, contiene a todos sus puntos de acumulación. Veamos que para cualquier $0\\leq \\theta\\leq 1$, se cumple que $\\theta x_1 + (1-\\theta)x_2 + \\epsilon > x_1 + \\frac{k_n}{2^n}(x_2 - x_1)$ con $n\\in\\textbf{N}$ y $k_n = 1,...,2^n$, para todo $\\epsilon > 0$.\n",
    "\n",
    "Lo anterior es equivalente a decir que $(x_1 + \\frac{k_n}{2^n}(x_2-x_1))-(\\theta x_1 + (1-\\theta)x_2)$ puede ser tan pequeño como se quiera. En efecto, para $\\epsilon > 0$, si se quiere que: $(x_1 + \\frac{k_n}{2^n}(x_2-x_1))-(\\theta x_1 + (1-\\theta)x_2)$, entonces se tendria que llegar a que $\\frac{k_n}{2^n}(x_2 - x_1) < \\epsilon - (1-\\theta)(x_1 - x_2)$, lo cual sí se tiene, porque por el Principio de Arquímedes, debe existir un $y\\in\\textbf{N}$ tal que $k_n(x_2-x_1) < y[\\epsilon - (1-\\theta)(x_1 - x_2)]$, luego debe existir un $n\\in\\textbf{N}$ tal que $k_n(x_2-x_1 < 2^n[\\epsilon -(1-\\theta)(x_1 - x_2)]$.\n",
    "\n",
    "Esto quiere decir que, dado el segmento entre $x_1$ y $x_2$ en $C$, puesto que $C$ es un conjunto cerrado, debe contener también a los puntos de la forma $\\theta x_1 + (1-\\theta)x_2$ con $0\\leq \\theta\\leq 1$, dado que todos estos puntos son puntos de acumulación para los puntos que sabemos que pertenecen a $C$ siendo $C$ un conjunto convexo de punto-medio. \n",
    "\n",
    "Por lo tanto, $C$ es convexo."
   ]
  },
  {
   "cell_type": "markdown",
   "id": "07b2be3d",
   "metadata": {},
   "source": [
    "* **2.4** Mostrar que la envolvente convexa de un conjunto $S$ es la intersección de todos los conjuntos convexos que contienen a $S$."
   ]
  },
  {
   "cell_type": "markdown",
   "id": "e657b565",
   "metadata": {},
   "source": [
    "Sabemos que $\\textbf{conv}S = \\{\\theta_1x_1 +\\dotsm +\\theta_kx_k | \\sum_{i=1}^{k}\\theta_i = 1, con \\theta_1\\geq 0, i=1,...,k y x_i\\in S\\}$. \n",
    "\n",
    "Sea $F = \\{A_j | j\\in J\\}$ la colección de todos los conjuntos convexos $A_j$ tales que $S\\subset A_j$. Sea $y\\in\\textbf{conv}S$. Como $\\textbf{conv}S$ es el menor de los conjuntos convexos que contiene a $S$, es decir, $\\textbf{conv}S\\subset B$ con $S\\subset\\textbf{S}$ y $S\\subset B$ con $B$ conjunto convexo, se tieen que $y\\in A_j$ para todo $j$, o dicho con el matema adecuado: $y\\in\\bigcap F = \\bigcap_{j\\in J}A_j$. Con esto concluimos que $\\textbf{S}\\subset\\bigcap_{j\\in J}A_J$.\n",
    "\n",
    "Ahora tomemos $z\\in\\bigcap_{j\\in J}A_j$. Entonces $z\\in A_j$ para todo $j\\in J$. Como todos los $A_j$ son conjuntos convexos que contienen a $S$, en particular $z\\in\\textbf{conv}S$ y así se tiene que $\\bigcap_{j\\in J}A_j \\subset\\textbf{conv}S$.\n",
    "\n",
    "Por lo tanto, $\\textbf{conv}S = \\bigcap_{j\\in J}A_j$.\n"
   ]
  },
  {
   "cell_type": "markdown",
   "id": "feba72e2",
   "metadata": {},
   "source": [
    "* **2.5** ¿Cuál es la distancia entre dos hiperplanos paralelos $\\{x\\in\\textbf{R}^n|a^Tx = b_1\\}$ y $\\{x\\in\\textbf{R}^n|a^Tx=b_2\\}$?"
   ]
  },
  {
   "cell_type": "markdown",
   "id": "bd98af8a",
   "metadata": {},
   "source": [
    "Puesto que lo hiperplanos dados son paralelos, $a$ es un vector normal a ambos. Por ende, si $x_1$ y $x_2$ son tales que $a^Tx_1 = b_1$ y $a^Tx_2 = b_2$, podemos hacer $\\textbf{proy}_a(x_2-x_1) = \\frac{(x_2-x_1)\\cdot a}{|a|^2}a$, entonces la distancia entre los dos hiperplanos sería $||\\textbf{proy}_a(x_2-x_1)||$."
   ]
  },
  {
   "cell_type": "markdown",
   "id": "7aac053c",
   "metadata": {},
   "source": [
    "* **2.8** ¿Cuáles de los siguientes conjuntos $S$ son poliedros?"
   ]
  },
  {
   "cell_type": "markdown",
   "id": "69c4a650",
   "metadata": {},
   "source": [
    "a) $S = \\{y_1a_1 +y_2a_2 | -1\\leq y_1 \\leq 1, -1\\leq y_2\\leq 1\\}$, con $a_1,a_2 \\in\\textbf{R}^n$. \n",
    "\n",
    "Dado que se deben cumplir las dos condiciones $-1\\leq y_1\\leq 1$ y $-1\\leq y_2\\leq 1$, podemos escribir lo siguiente: $-a_1\\leq y_1a_1\\leq a_1$ y $-a_2\\leq y_2a_2\\leq a_2$, con lo que $-(a_1+a_2)\\leq y_1a_1 + y_2a_2\\leq a_1a_2$. Por lo tanto podemos escribir el conjunto $S$ de la siguiente manera: $S = \\{x|x\\leq a_1+a_2 y -(a_1+a_2)\\leq x, con a_1,a_2\\in\\textbf{R}^n\\}$, donde se ve que $x$ haría el papel de los $a_1y_1 + a_2y_2$ con las restricciones a los $y_1,y_2$. Por lo tanto, como $S$ puede ser escrito como el conjunto solución de un número finito de desigualdades, concluimos que $S$ es un poliedro."
   ]
  },
  {
   "cell_type": "markdown",
   "id": "8ad57a0b",
   "metadata": {},
   "source": [
    "b) $S = \\{x\\in\\textbf{R}^n| x\\succeq0, \\textbf{1}^Tx = 1, \\sum_{i=1}^{n}x_1a_1 = b_1, \\sum_{i=1}^{n}x_ia_i^2 = b_2\\}$ donde $a_1,...,a_n\\in\\textbf{R}$ y $b_1,b_2\\in\\textbf{R}$.\n",
    "\n",
    "Puesto que los $a_1,...,a_n\\in\\textbf{R}$ y $b_1,b_2\\in\\textbf{R}$ son fijos y finitos, significa que $S$ es el conjunto solución de un conjunto finito de igualdades y desigualdades, o lo que es lo mismo, $S$ es un poliedro."
   ]
  },
  {
   "cell_type": "markdown",
   "id": "6cc17601",
   "metadata": {},
   "source": [
    "c) $S = \\{x\\in\\textbf{R}^n|x\\succeq0, x^Ty\\leq 1\\ para todos los y con ||y||_2 = 1\\}$\n",
    "\n",
    "Este conjutno representa una esfera (o n-esfera en $\\textbf{R}^n$) con radio 1. Pero como esta figura es la intersección de infinitos semiespacios en $\\textbf{R}^n$, no puede ser un poliedro."
   ]
  },
  {
   "cell_type": "markdown",
   "id": "a49b1403",
   "metadata": {},
   "source": [
    "d) $S = \\{x\\in\\textbf{R}^n|x\\succeq0, x^Ty\\leq1 para todo y con \\sum_{i=1}^{n} = 1\\}$\n",
    "\n",
    "Este conjunto, en $\\textbf{R}^2$, por ejemplo, sería un rombo con  centro en $(0,0)$ y sus vértices en cada uno de los ejes del plano coordenado. Así, conjeturo que se puede escribir $S$ de la siguiente manera: $S = \\{x\\in\\textbf{R}^n| x\\succeq 0, x^T(e_i+e_j)\\leq 1\\}$ donde e_n son los vectores canónicos de $\\textbf{R}^n$ y $j\\neq i$. Nótese que, escrito de esta manera, $S$ es un conjunto finito de desigualdades, pues tendría, exactamente, $\\frac{n(n-1)}{2}$ desigualdades.\n",
    "\n",
    "Por lo tanto, $S$ es un conjunto solución de un número finito de desigualdades, y sí es un poliedro."
   ]
  },
  {
   "cell_type": "markdown",
   "id": "53f2fe32",
   "metadata": {},
   "source": [
    "* **2.9** Sean $x_0,...,x_K \\in\\textbf{R}^n$. Considere el conjunto de los puntos que son más cercanos a $x_0$ que otros $x$, es decir: $V = \\{x\\in\\textbf{R}^n| ||x-x_0||_2 \\leq ||x-x_i||_2, i = 1,...,K\\}$. V se llama la $\\textit{región Voronoi}$ alrededor de $x_0$ con respecto a $x_1,...,x_K$."
   ]
  },
  {
   "cell_type": "markdown",
   "id": "1a20644a",
   "metadata": {},
   "source": [
    "a) Mostrar que V es un poliedro, expresando a $V$ en la forma $V=\\{x|Ax\\preceq b\\}$."
   ]
  },
  {
   "cell_type": "markdown",
   "id": "2018ad92",
   "metadata": {},
   "source": [
    "En efecto, se puede expresar a $V$ como un conjunto finito de desigualdades. Si $A = (x_a-x_{0a})_{ab}$ es una matriz con filas dadas por los índices $a$ y columnas dadas por los índices $b$, entonces $L = \\{y\\in\\textbf{R}^n|Ay\\preceq b, donde y=(x-x_0) y b_i = ||x-x_i||_2^2\\}$ es un poliedro, según la definición de un poliedro.\n",
    "\n",
    "Así, se puede expresar $V$ como $V = L + x_0$ que es un poliedro, ya que $L$ es un poliedro, y $V$ sería la traslación de un poliedro a otro punto de $\\textbf{R}^n$, con lo que sigue siendo un poliedro."
   ]
  },
  {
   "cell_type": "markdown",
   "id": "a0a307ec",
   "metadata": {},
   "source": [
    "b) Mostrar que, dado un poliedro $P$ con un interior no vacío, se pueden encontrar $x_0,...,x_K$ tales que el poliedro es la región Voronoi de $x_0$ con respecto a los $x_1,...,x_K$."
   ]
  },
  {
   "cell_type": "markdown",
   "id": "3c458439",
   "metadata": {},
   "source": [
    "Si $P$ es un poliedro, entonces por definición, se puede expresar como $P = \\{x\\in\\textbf{R}^n|Ax\\leq b\\}$. Tomemos $x_0$ tal que $Ax_0 = b$, con lo que $P = \\{x\\in\\textbf{R}^n|A(x-x_0)\\leq 0\\}$. Para obtener $x_0$, se puede tomar el baricentro de $P$. Cada uno de los $x_1,...,x_K$ se pueden tomar como los puntos que están a la i-ésima esquina de $P$, y están a la misma distancia de la esquina, que lo está $x_0$ a la respectiva esquina. Con estos puntos, ya podemos obtener la región Voronoi de $x_0$ con respecto a los $x_1,...,x_K$, que corresponde a $P$, dado que, mediante este proceso, se tiene que las distancias de $x_0$ a las aristas de polihedro en $\\textbf{R}^n$ siempre es menor que su distancia una de las esquinas que forman el respectivo vértice, y como hicimos que los $x_1,...x_K$ estuvieran al doble de la distancia a la que está $x_0$ respecto a la respectiva esquina, entonces su distancia a las aristas debe ser mayor que la de $x_0$ a las aristas, y así se tiene una región Voronoi."
   ]
  },
  {
   "cell_type": "markdown",
   "id": "32250b38",
   "metadata": {},
   "source": [
    "c) También podemos considerar los conjuntos $V_k = \\{x\\in\\textbf{R}^n| ||x-x_k||_2 \\leq ||x-x_i||_2. i\\neq k\\}$.\n",
    "El conjunto $V_k$ consiste de los puntos en $\\textbf{R}^n$ para los que el punto más cercano en el conjunto $\\{x_0,...,x_K\\}$ es x_k.\n",
    "Los conjuntos $V_0,...,V_K$ nos dan una descomposición polihédrica de $\\textbf{R}^n$. Supongamos que $P_1,...,P_m$ son polihedros tales que $\\bigcup_{k=0}^{K}V_k = \\textbf{R}^n$ y $\\textbf{int}P_i \\cap \\textbf{int}P_j = \\emptyset$ para $i\\neq j$. ¿Puede esta composición poliehédrica de $\\textbf{R}^n$ ser descrita como regiones Voronoi generadas por el conjunto apropiado de puntos?"
   ]
  },
  {
   "cell_type": "markdown",
   "id": "14197093",
   "metadata": {},
   "source": [
    "No necesariamente se puede hacer para todas las descomposiciones poliédricas. El problema es que no se puede encontrar, necesariamente, para ciertos conjuntos, el punto necesario para generar las regiones Voronoi. Teniendo en cuenta lo que vimos en los apartados anteriores, podemos conjeturar que, en general, lo que es necesario para generar las regiones Voronoi, es un punto como el baricentro, que esté una distancia promedio a los límites de la región polédrica. "
   ]
  },
  {
   "cell_type": "markdown",
   "id": "12096265",
   "metadata": {},
   "source": [
    "* **2.10.** Sea $C \\subset \\textbf{R}^n$ el conjunto solución de una desigualdad cuadrática, $C = \\{x\\in\\textbf{R}^n|x^TAx + b^Tx + c \\leq 0\\}$, con $A\\in\\textbf{S}^n$, $b\\in\\textbf{R}^n$, y $c\\in\\textbf{R}$."
   ]
  },
  {
   "cell_type": "markdown",
   "id": "97d06867",
   "metadata": {},
   "source": [
    "a) Mostrar que $C$ es convexo, si $A\\succeq 0$."
   ]
  },
  {
   "cell_type": "markdown",
   "id": "077e4a29",
   "metadata": {},
   "source": [
    "Sea $x_1,x_2\\in C$. Entonces se puede ver que se tiene que $(\\theta x_1)^TA(\\theta x_1) + b^T(\\theta x_1) + \\theta c\\leq 0$ y también que $(\\theta x_2)^TA(\\theta x_2) + b^T(\\theta x_2) +(1=\\theta) c \\leq 0$ con $0\\leq\\theta\\leq 1$.\n",
    "\n",
    "Veamos ahora que \n",
    "\n",
    "$[\\theta x_1 + (1-\\theta)x_2]^TA[\\theta x_1 + (1-\\theta)x_2] + b^T[\\theta x_1 + (1-\\theta)x_2] + c$ \n",
    "\n",
    "= $(\\theta x_1)^TA(\\theta x_1) + b^T(\\theta x_1) + \\theta c + [(1-\\theta)x_2]^TA(1-\\theta)x_2 + b^T(1-\\theta)x_2 + (1-\\theta)c + [(1-\\theta)x_2]^TA(\\theta x_1) + (\\theta x_1)^TA(1-\\theta)x_2$\n",
    "\n",
    "donde\n",
    "\n",
    "$[(1-\\theta)x_2]^TA(\\theta x_1) + (\\theta x_1)^TA(1-\\theta)x_2$\n",
    "\n",
    "= $x_2^TA(\\theta x_1) - (\\theta x_2)^TA(\\theta x_1) + (\\theta x_1)^TAx_2 - (\\theta x_1)^TA(\\theta x_2)$\n",
    "\n",
    "y sabiendo que $A\\succeq 0$, y que $0\\leq\\theta\\leq 1$ podemos concluir que $x_2^TA(\\theta x_1) - (\\theta x_2)^TA(\\theta x_1) \\leq 0$ y también que $(\\theta x_1)^TAx_2 - (\\theta x_1)^TA(\\theta x_2)\\leq 0$, por lo, por la hipótesis inicial, podemos ver que $\\theta x_1 + (1-\\theta)x_2 \\in C$ si $A\\succeq 0$ y $0\\leq\\theta\\leq 1$.\n",
    "\n",
    "También se puede verificar lo anterior para la igualdad, utilizando la condición de segundo orden sobre $f(x)=x^TAx +b^Tx + c$, donde nos da que $\\nabla^2f(x)=A$ con lo que $A\\succeq0$."
   ]
  },
  {
   "cell_type": "markdown",
   "id": "decbebfc",
   "metadata": {},
   "source": [
    "b) Mostrar que, en tal caso, su intersección con el hiperplano definido por $g^Tx + h = 0$ es convexo, con $A\\succeq 0$"
   ]
  },
  {
   "cell_type": "markdown",
   "id": "24933e9d",
   "metadata": {},
   "source": [
    "En efecto, puesto que todo hiperplano es un conjunto convexo, y la intersección es una de las operaciones que preserva la convexidad, entonces se tiene que la intersección de $C$ con el hiperplano dado (y con cualquier es hiperplano dado) es convexo si $A\\succeq 0$, como mostramos en el apartado anterior."
   ]
  },
  {
   "cell_type": "markdown",
   "id": "e4b9abc4",
   "metadata": {},
   "source": [
    "* **2.13** Considere el conjunto de rango-k de $\\textit{productos externos}$, definido como $\\{XX^T|X\\in\\textbf{R}^{n x k}, \\textbf{rank}X = k\\}$. Describa su envolvente cónica en términos simples."
   ]
  },
  {
   "cell_type": "markdown",
   "id": "69702601",
   "metadata": {},
   "source": [
    "Que el rango de $X$ sea igual a $k$, significa que sus columnas pueden ser escritas como combinación lineal de $k$ vectores linealmente independientes. Por ende, para $y=XX^T$, el propio $y$ también es el resultado de la combinación lineal de esos mismos $v_1,...,v_k$ vectores linealmente independientes, es decir: $y = \\theta_1v_1 +\\dotsm + \\theta_kv_k$. Por ende, pienso que la envolvente cónica de este conjunto, puede ser descrita como la combinación lineal restringida de los vectores base que generan las columnas de $X$, es decir: $\\textbf{conv}XX^T = \\{\\theta_1v_1 +\\dotsm +\\theta_kv_k|\\theta_i \\geq 0 con 1\\leq i\\leq k y \\sum_{i=1}^{k}\\theta_1 = 1\\}$ donde $\\{v_1,...,v_k\\}$ es la base de las columnas de $X$."
   ]
  },
  {
   "cell_type": "markdown",
   "id": "cf309a44",
   "metadata": {},
   "source": [
    "* **2.14.** Sea $S\\subset\\textbf{R}^n$, y sea $||\\cdot||$ una norma en $\\textbf{R}^n$."
   ]
  },
  {
   "cell_type": "markdown",
   "id": "02a7050a",
   "metadata": {},
   "source": [
    "a) Para $a\\geq0$ definimos $S_a$ como $\\{x|\\textbf{dist}(x,S)\\leq a\\}$, donde $\\textbf{dist}(x,S) = inf_{y\\in S}||x-y||$. Mostrar que si $S$ es convexo, entonces $S_a$ también es convexo."
   ]
  },
  {
   "cell_type": "markdown",
   "id": "fa34afe7",
   "metadata": {},
   "source": [
    "Supongamos que $S$ es convexo. Tomemos $x_1,x_2\\in S_a$. Eso quiere decir que $inf_{y\\in S}||x_1-y||\\leq a$ y que $inf_{y\\in S}||x_2-y||\\leq a$, para $a\\geq0$. Veamos apra $\\theta x_1+(1-\\theta)x_2$.\n",
    "\n",
    "$\\textbf{dist}(\\theta x_1+(1-\\theta)x_2, S)$ = $inf_{y\\in S}||\\theta x_1 + (1-\\theta)x_2 - y||$. Como por hipótesis, $S$ es convexo, entonces está contenido en su envolvente convexa. Eso quiere decir que todos los $y\\in S$ se pueden expresar como $\\theta y_1 + (1-\\theta)y_2$ con $0\\leq\\theta\\leq 1$ y $y_1,y_2\\in S$. Así que en la igualdad que teníamos podemos seguir diciendo que \n",
    "\n",
    "$inf_{y\\in S}||\\theta x_1 + (1-\\theta)x_2 - y||$ = $inf_{y_1,y_2\\in S}||\\theta x_1 + (1-\\theta)x_2 + \\theta y_1 -(1-\\theta)y_2||$ = $inf_{y_1,y_2\\in S}||\\theta(x_1-y_1) + (1-\\theta)(x_2-y_2)||$ $\\leq$ $inf_{y_1,y_2\\in S}[\\theta||x_1-y_1|| + (1-\\theta)||x_2-y_2||]$ = $\\theta inf_{y_1\\in S}||x_1-y_1|| + (1-\\theta)inf_{y_2\\in S}||x_2-y_2||$.\n",
    "\n",
    "Y como por la hipótesis teníamos también que $inf_{y_1\\in S}||x_1-y_1||\\leq a$ y también $inf_{y_2\\in S}||x_2-y_2||\\leq a$, se tiene que \n",
    "\n",
    "$\\theta inf_{y_1\\in S}||x_1-y_1|| + (1-\\theta)inf_{y_2\\in S}||x_2-y_2||\\leq\\theta a + (1-\\theta)a = a$, es decir, que $\\theta x_1 +(1-\\theta)x_2\\in S_a$, lo que prueba que $S_a$ es convexo."
   ]
  },
  {
   "cell_type": "markdown",
   "id": "1de7751e",
   "metadata": {},
   "source": [
    "b) Para $a\\geq0$ definimos $S_{-a} = \\{x|B(x,a)\\subset S\\}$, donde $B(x,a)$ es la bola con centro en $x$ y radio $a$. Mostrar que si $S$ es convexo, entonces $S_{-a}$ también es convexo."
   ]
  },
  {
   "cell_type": "markdown",
   "id": "d3b449fe",
   "metadata": {},
   "source": [
    "Puesto que estamos trabajando en $\\textbf{R}^n$, podemos asumir que estamos trabajando con vectores como usualmente lo hacemos. Así, tomando $x_1,x_2\\in S_{-a}$, tenemos que $B(x_1,a)\\subset S$ y $B(x_2,a)\\subset S$. Esto significa que si tomamos un vector $v$ tal que $||v||<a$, entonces $x_1 + v \\in S$ y también $x_2 + v \\in S$. Por lo tanto, tomando $0\\leq\\theta\\leq 1$, se tiene que \n",
    "\n",
    "$\\theta x_1 + (1-\\theta)x_2 + v = \\theta x_1 + (1-\\theta)x_2 +\\theta v+ (1-\\theta)v$ y como $S$ es convexo, tenemos que $\\theta(x_1 + v) + (1-\\theta)(x_2 + v) \\in S$.\n",
    "\n",
    "Concluimos entonces que $B(\\theta x_1 + (1-\\theta)x_2,a)\\subset S$ y $S_{-a}$ es convexo."
   ]
  },
  {
   "cell_type": "markdown",
   "id": "572c12ab",
   "metadata": {},
   "source": [
    "* **2.15.** Sea $x$ una variable aleatoria con $\\textbf{prob}(x=a_i)=p_i, i=1,...,n$ donde $a_1<a_2<\\dotsm<a_n$. ¿Cuáles de las siguientes condiciones son convexas en p?"
   ]
  },
  {
   "cell_type": "markdown",
   "id": "aa9afe70",
   "metadata": {},
   "source": [
    "a) $\\alpha\\leq \\textbf{E}f(x)\\leq\\beta$, donde $\\textbf{E}f(x)$ es el valor esperado de $f(x)$, i.e., $\\textbf{E}f(x) = \\sum_{i=1}^{n}p_if(a_i)$"
   ]
  },
  {
   "cell_type": "markdown",
   "id": "2a0eca61",
   "metadata": {},
   "source": [
    "La restricción es equivalente a las desigualdades lineales $\\alpha\\leq\\sum_{i=1}^{n}p_if(a_i)\\leq\\beta$, que forma un poliedro (y por lo tanto es convexo) por ser un número finito de desigualdades, según $p_i, i = 1,...,n$. Esto último que hemos dicho, se aplica para el resto de los apartados, lo que nos permite reemplazar más fácilmente."
   ]
  },
  {
   "cell_type": "markdown",
   "id": "ea4851b4",
   "metadata": {},
   "source": [
    "b) $\\textbf{prob}(x>\\alpha)\\leq\\beta$"
   ]
  },
  {
   "cell_type": "markdown",
   "id": "69efb609",
   "metadata": {},
   "source": [
    "Dado que $\\textbf{prob}(x>\\alpha)\\leq\\beta = \\sum_{\\alpha_i\\geq\\alpha}p_i$, entonces es equivalente a la siguiente serie de desigualdades: $\\sum_{\\alpha_i\\geq\\alpha}p_i\\leq\\beta$"
   ]
  },
  {
   "cell_type": "markdown",
   "id": "e277cf6e",
   "metadata": {},
   "source": [
    "c) $\\textbf{E}|x^3|\\leq\\alpha\\textbf{E}|x|$"
   ]
  },
  {
   "cell_type": "markdown",
   "id": "e82aec6b",
   "metadata": {},
   "source": [
    "Esta desigualdad es equivalente a que $\\sum_{i=1}^{n}p_i|a_i^3| \\leq \\alpha\\sum_{i=1}^{n}p_i|a_i|$ o lo que es lo mismo:\n",
    "$\\sum_{i=1}^{n}p_i(|a_i^3|-\\alpha|a_i|)\\leq 0$."
   ]
  },
  {
   "cell_type": "markdown",
   "id": "00e40c89",
   "metadata": {},
   "source": [
    "d) $\\textbf{E}(x^2)\\leq\\alpha$"
   ]
  },
  {
   "cell_type": "markdown",
   "id": "0de1ea18",
   "metadata": {},
   "source": [
    "De nuevo, esta desigualdad es equivalente a $\\sum_{i=1}^{n}p_ia_i^2\\leq\\alpha$"
   ]
  },
  {
   "cell_type": "markdown",
   "id": "a35ba178",
   "metadata": {},
   "source": [
    "e) $\\textbf{E}(x^2)\\geq\\alpha$"
   ]
  },
  {
   "cell_type": "markdown",
   "id": "88fe8945",
   "metadata": {},
   "source": [
    "De nuevo, esta desigualdad es equivalente a $\\sum_{i=1}^{n}p_ia_i^2\\geq\\alpha$"
   ]
  },
  {
   "cell_type": "markdown",
   "id": "899b95ea",
   "metadata": {},
   "source": [
    "* **2.16.** Mostrar que si $S_1$ y $S_2$ son conjuntos convexos en $\\textbf{R}^{m+n}$, entonces su suma parcial $S = \\{(x,y_1+y_2)|x\\in\\textbf{R}^m, y_1,y_2\\in\\textbf{R}^n, (x,y_1)\\in S_1, (x,y_2)\\in S_2\\}$ también es convexa."
   ]
  },
  {
   "cell_type": "markdown",
   "id": "e355a4e8",
   "metadata": {},
   "source": [
    "Tomemos $(x_a,y_{1a}+y_{2a})\\in S$ y $(x_b,y_{2a}+y_{2b})\\in S$. Por definición de $S$, $(x_a,y_{1a});(x_b,y_{1b})\\in S_1$ y también $(x_a,y_{2a});(x_b,y_{2b})\\in S_2$.\n",
    "\n",
    "Tomamos $0\\leq\\theta\\leq 1$, y hacemos la suma parcial de \n",
    "\n",
    "$\\theta(x_a,y_{1a}+y_{2a})+(1-\\theta)(x_b, y_{1b}+y_{2b}) = (\\theta x_a + (1-\\theta)x_b, \\theta(y_{1a}+y_{2a})+(1-\\theta)(y_{1b}+y_{2b})) = (\\theta x_a +(1-\\theta)x_b, \\theta y_{1a}+(1-\\theta)y_{1b} + \\theta y_{2a} + (1-\\theta)y_{2b})$ \n",
    "\n",
    ",que debe pertenecer a $S$, gracias a que $(\\theta x_a + (1-\\theta)x_b, \\theta y_{1a} + (1-\\theta)y_{1b})\\in S_1$ y también $(\\theta x_a + (1-\\theta)x_b, \\theta y_{2a} + (1-\\theta)y_{2b})\\in S_2$, por la convexidad de $S_1$ y $S_2$.\n",
    "\n",
    "Concluimos entonces que $\\theta(x_a,y_{1a}+y_{2a})+(1-\\theta)(x_b,y_{1b}+y_{2b})\\in S$ y por consiguiente es convexo."
   ]
  },
  {
   "cell_type": "markdown",
   "id": "fd231c09",
   "metadata": {},
   "source": [
    "* **2.18.** Sea $f : \\textbf{R}^n \\rightarrow \\textbf{R}^n$ la función fraccional linear $f(x) = (Ax + b)/(c^Tx + d)$, donde $\\textbf{dom}f = \\{x|c^Tx + d > 0\\}$.\n",
    "\n",
    "Supongamos la matriz $Q = \\begin{bmatrix} A & b\\\\c^T & d \\end{bmatrix}$ no singular.\n",
    "\n",
    "Mostrar que $f$ es invertible y que $f^{-1}$ es un mapeo fraccional linear. Dar un expresión explícita para $f^{-1}$ y su dominio en términos de $A$, $b$, $c$ y $d$."
   ]
  },
  {
   "cell_type": "markdown",
   "id": "05228bf4",
   "metadata": {},
   "source": [
    "Según el libro, la función $f(x)$  puede ser representada con la matriz dada $Q$, que, por ser no singular, es invertible, luego la inversa de $f(x)$ existe. Además, también se dice que $f(x) = P^{-1}(QP(x))$, donde $P(x)$ representa un rayo en $\\textbf{R}^{n+1}$, para cada punto $x\\in\\textbf{R}^n$. Es decir, que proyecta cada $x\\in\\textbf{R}^n$ en $\\textbf{R}^{n+1}$.\n",
    "\n",
    "Por ende, podemos expresar la inversa de $f(x)$ como $f_{-1}(x) = P^{-1}(Q^{-1}P(x))$, donde $Q^{-1}$ es la inversa de $Q$, y que es una proyección gracias a $P$."
   ]
  },
  {
   "cell_type": "markdown",
   "id": "900382b2",
   "metadata": {},
   "source": [
    "$\\textit{Fin de los ejercicios}$"
   ]
  },
  {
   "cell_type": "markdown",
   "id": "eff61bca",
   "metadata": {},
   "source": [
    "Nota: el algoritmo no fue realizado, porque creo que todavía no tengo los suficientes conocimientos de Julia (soy de la carrera de Matemáticas, no de la de Ciencias de la Computación), y no creo que pueda implementar el algoritmo sin haber visto algún ejemplo similar a lo que está propuesto como objetivo para el algoritmo."
   ]
  },
  {
   "cell_type": "markdown",
   "id": "686b3498",
   "metadata": {},
   "source": [
    "# Tercer Punto, Tarea 2"
   ]
  },
  {
   "cell_type": "markdown",
   "id": "e24c6fee",
   "metadata": {},
   "source": [
    "* **Verificar que el conjunto de soluciones de un conjunto de desigualdades de matrices lineales es convexa.**"
   ]
  },
  {
   "cell_type": "markdown",
   "id": "528f2bfa",
   "metadata": {},
   "source": [
    "En efecto, se tiene que para el conjunto solución de una serie de desigualdades, $C = \\{x|Ax\\preceq b\\} = \\{x|Ax - b\\preceq 0\\}$, si tomamos $x_1,x_2\\in C$, se tiene que, para $0\\leq\\theta\\leq 1$,\n",
    "\n",
    "$A[\\theta x_1 + (1-\\theta)x_2] - b = A(\\theta x_1) + A(1-\\theta)x_2 - b = \\theta(Ax_1) + (1-\\theta)(Ax_2) - b = \\theta(Ax_1) + (1-\\theta)(Ax_2) -\\theta b -(1-\\theta)b$\n",
    "\n",
    "= $\\theta(Ax_1-b) + (1-\\theta)(Ax_2 - b)$, y como por hipótesis, $Ax_1-b\\leq0$ y $Ax_2 - b\\leq0$, con $0\\leq\\theta\\leq 1$, entonces $\\theta(Ax_1-b)\\leq0$ y $(1-\\theta)(Ax_2-b\\leq0$ por lo que $\\theta(Ax_1-b) + (1-\\theta)(Ax_2 - b)\\leq 0$ y $A[\\theta x_1 + (1-\\theta)x_2]\\leq b$, con lo que $\\theta x_1+(1-\\theta)x_2 \\in C$ y $C$ es efectivamente un conjunto convexo.\n",
    "\n",
    "Lo anterior a su vez demuestra que, dada la definición de un poliedro, este es siempre convexo."
   ]
  }
 ],
 "metadata": {
  "kernelspec": {
   "display_name": "Julia 1.7.2",
   "language": "julia",
   "name": "julia-1.7"
  },
  "language_info": {
   "file_extension": ".jl",
   "mimetype": "application/julia",
   "name": "julia",
   "version": "1.7.2"
  }
 },
 "nbformat": 4,
 "nbformat_minor": 5
}
