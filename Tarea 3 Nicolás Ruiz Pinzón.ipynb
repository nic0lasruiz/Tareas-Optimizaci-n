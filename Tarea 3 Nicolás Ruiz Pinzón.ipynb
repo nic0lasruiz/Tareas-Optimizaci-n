{
 "cells": [
  {
   "cell_type": "markdown",
   "id": "eff4b2db",
   "metadata": {},
   "source": [
    "## Ejercicios Tarea 3:"
   ]
  },
  {
   "cell_type": "markdown",
   "id": "008f2499",
   "metadata": {},
   "source": [
    "* **3.2**: Se muestran algunos conjuntos de nivel de la función $\\textit{f}$. ¿Puede la función $\\textit{f}$ ser convexa, (cóncava, cuasiconvexa, cuasicóncava)? ¿Qué se puede decir de la otra función?"
   ]
  },
  {
   "cell_type": "markdown",
   "id": "2ea7bfda",
   "metadata": {},
   "source": [
    "Según la definición de función cuasiconvexa, $\\textit{f}$ es cuasiconvexa si y sólo si sus conjuntos de infranivel (sublevel sets) son convexos. Siguiendo la figura del libro, por el patrón que se muestr, vemos que $\\{x|f(x)\\leq\\alpha\\}$ es convexo para $\\alpha = 1,2,...$, así que podemos afirmar que $\\textit{f}$ es cuasiconvexa. Es sin embargo posible que $\\textit{f}$ no sea convexa. Tampoco es cuasicóncava (y por lo tanto, tampoco es cóncava) puesto que sus conjuntos de supranivel (superlevel sets) $\\{x|f(x)\\leq\\alpha\\}$ no son convexos, según se puede ver por la figura."
   ]
  },
  {
   "cell_type": "markdown",
   "id": "41366909",
   "metadata": {},
   "source": [
    "Ahora bien, de la otra función cuyos conjuntos de nivel nos muestra el libro también, podemos concluir que es cuasicóncava,  puesto que sus conjuntos de supranivel son todos ellos convexos para $\\alpha = 1,2,3,...$. Puede, por lo tanto, ser cóncava. Sin embargo, no es ni cuasiconvexa ni convexa, porque sus conjuntos de infranivel no son convexos."
   ]
  },
  {
   "cell_type": "markdown",
   "id": "3c23a39f",
   "metadata": {},
   "source": [
    "* **3.4**: Mostrar que una función continua $f: \\textbf{R}\\rightarrow\\textbf{R}$ es convexa si y sólo si, para cada segmente de recta, su valor promedio en el segmento es menor o igual al promedio de sus valores en los puntos extremos de ese segmento. Es decir, que, para cada $x,y \\in \\textbf{R}^n$, $\\int_{0}^{1}f(x+\\lambda(y-x)d\\lambda \\leq \\frac{f(x)+f(y)}{2}$."
   ]
  },
  {
   "cell_type": "markdown",
   "id": "c40aad03",
   "metadata": {},
   "source": [
    "Primero, suponemos que $\\textit{f}$ es convexa.\n",
    "\n",
    "Por lo tanto, tenemos que $f(\\theta x + (1-\\theta)y)\\leq \\theta f(x) + (1-\\theta)f(y)$  o lo que es lo mismo, $f(y + \\theta(x-y))\\leq f(y)+\\theta(f(x)-f(y))$ para $0\\leq\\theta\\leq 1$.\n",
    "\n",
    "Podemos integrar respecto a $\\theta$:\n",
    "\n",
    "$\\int_{0}^{1}f(y+\\theta(x-y))d\\theta \\leq \\int_{0}^{1}(f(y) +\\theta(f(x)-f(y))d\\theta$ = $[\\theta f(y) + \\frac{\\theta^2}{2}f(x)-f(y)]|_{0}^{1}$ = $\\frac{f(y)+f(x)}{2}$\n",
    "\n",
    "que es lo que queríamos (reemplazando y por x)."
   ]
  },
  {
   "cell_type": "markdown",
   "id": "7ac5eaba",
   "metadata": {},
   "source": [
    "Ahora supongamos que $\\textit{f}$ no es convexa. Entonces existen $u, v\\in \\textbf{R}$ con $0\\leq\\lambda 1$, tales que: $f(\\lambda u + (1-\\lambda)v) > \\lambda f(u) +(1-\\lambda)f(v)$.\n",
    "\n",
    "Puesto que $\\textit{f}$ es continua, entonces la función $g(\\theta) = f(\\theta x + (1-\\theta)y) -\\theta f(x)-(1-\\theta)f(y)$ también es continua. Se ve que $g(0)=0$ y $g(1)=0$, y que, por uestra hipótesis, $g(\\lambda)>0$, para $x=u$ y $y=v$.\n",
    "\n",
    "Gracias a que $g$ es continua, podemos definir a $\\alpha\\in[0,1]$ como la mayor raiz de $\\textit{g}$ antes de $\\lambda$, y a $\\beta\\in[0,1]$ como la menor raiz de $\\textit{g}$ después de $\\lambda$. En el intervalo $(\\alpha,\\beta)$, $\\textit{g}$ es positiva por ser continua, así que $f(\\theta u +(1-\\theta)v) > \\theta f(u) + (1-\\theta)f(v)$ se puede integrar a ambos lados para obtener: $\\int_{0}^{1} f(u + \\theta(u-v))d\\theta > \\frac{f(u)+f(v)}{2}$ en todo el intervalo entre $u$ y $v$. \n",
    "\n",
    "Esto demuestra la otra dirección de la equivalencia."
   ]
  },
  {
   "cell_type": "markdown",
   "id": "a57f84ef",
   "metadata": {},
   "source": [
    "* **3.6**: ¿Cuándo es el epígrafo de una función un semiespacio? ¿Cuándo es un cono convexo? ¿Cuándo es un poliedro?"
   ]
  },
  {
   "cell_type": "markdown",
   "id": "860b10f0",
   "metadata": {},
   "source": [
    "El epígrafo de una función es un semiespacio, siempre que la función sea afín, pues para que sea un semiespacio, debe ser toda la región de encima de una función, y esta función necesariamente debe partir el espacio en dos."
   ]
  },
  {
   "cell_type": "markdown",
   "id": "c5a4310f",
   "metadata": {},
   "source": [
    "El epígrafo de una función es un cono convexo, siempre que $\\theta_1(x_1,t_1) + \\theta_2(x_2,t_2) + \\dotsm + \\theta_n(x_n,t_n)\\in \\textbf{epi}f$ con $\\theta_i \\geq 0$, es decir, siempre que $f(\\theta_1x_1 +\\dotsm+ \\theta_nx_n)\\leq \\theta_1t_1+\\dotsm+\\theta_nt_n$ con $\\theta_i \\geq 0$."
   ]
  },
  {
   "cell_type": "markdown",
   "id": "870310d7",
   "metadata": {},
   "source": [
    "Creo que no es posible que el epígrafo de una función sea un polígono cerrado."
   ]
  },
  {
   "cell_type": "markdown",
   "id": "0ff9ae45",
   "metadata": {},
   "source": [
    "* **3.13**: Sea $D_{kl}(u,v):= \\sum_{i=1}^{n}(u_i\\log(\\frac{u_i}{v_i})-u_i+v_i)$, que es convexa. Probar que $D_{kl}\\geq 0$ para todo $u,v\\in \\textbf{R}_{++}^{n}$, y que $D_{kl}=0$ si y sólo si $u=v$, sabiendo además que $D_{kl} = f(u)-f(v)-\\nabla f(v)^T(u-v)$, donde $f(v)=\\sum_{i=1}^{n}v_i\\log v_i$."
   ]
  },
  {
   "cell_type": "markdown",
   "id": "c4807e93",
   "metadata": {},
   "source": [
    "Puesto que $f(v)=\\sum_{i=1}^{n}v_i\\log v_i$ es diferenciable y convexa en $\\textbf{R}_{++}^{n}$, por la propiedad de composión que preserva al convexidad, entonces por la propiedad de primer orden, se tiene que $f(u)\\geq f(v) + \\nabla f(v)^T(u-v)$ para $u,v\\in\\textbf{R}_{++}^{n}$.\n",
    "\n",
    "Reemplazando, tenemos que:\n",
    "\n",
    "$\\sum_{i=1}^{n}u_i\\log u_i \\geq \\sum_{i=1}^{n}v_i\\log v_i + \\sum_{i=1}^{n}(1+\\log v_i)(u_i-v_i)$ = $\\sum_{i=1}^{n}v_i\\log v_i + \\sum_{i=1}^{n}u_i\\log v_i -\\sum_{i=1}^{n}v_i\\log v_i + \\sum_{i=1}^{n}u_i - \\sum_{i=1}^{n}v_i$.\n",
    "\n",
    "Es decir que:\n",
    "\n",
    "$D_{kl} = \\sum_{i=1}^{n}(u_i\\log(\\frac{u_i}{v_i})-u_i + v_i)\\geq 0$.\n",
    "\n",
    "Cuando $u=v$, se ve que $D_{kl}=0$, y como la ocnvexidad es estricta, se tiene la igualdad sólo si $u=v$."
   ]
  },
  {
   "cell_type": "markdown",
   "id": "164cbd34",
   "metadata": {},
   "source": [
    "* **3.16**: Para cada una de las siguientes funciones, determinar si es convexa, cóncava, cuasiconvexa o cuasicóncava."
   ]
  },
  {
   "cell_type": "markdown",
   "id": "716119c1",
   "metadata": {},
   "source": [
    "a)$f(x)=e^x - 1$ en $\\textbf{R}$.\n",
    "\n"
   ]
  },
  {
   "cell_type": "markdown",
   "id": "4994d5ce",
   "metadata": {},
   "source": [
    "Es convexa y por ende cuasiconvexa (su doble derivada es positiva). También es cuasicóncava porque sus conjuntos de supranivel son convexos. No es cóncava porque $-f(x)$ no es convexa."
   ]
  },
  {
   "cell_type": "markdown",
   "id": "e67fd933",
   "metadata": {},
   "source": [
    "b)$f(x_1,x_2)=x_1x_2$ en $\\textbf{R}_{++}^2$"
   ]
  },
  {
   "cell_type": "markdown",
   "id": "a53764f9",
   "metadata": {},
   "source": [
    "No es convexa ni cóncava, porque $\\nabla^2f(x) = \\begin{bmatrix} 0 & 1\\\\ 1 & 0 \\end{bmatrix}$ no es ni semidefinida positiva ni tampoco semidefinida negativa.\n",
    "\n",
    "Es cuasicóncava en $\\textbf{R}_{++}^2$ porque $\\{(x_1,x_2)\\in \\textbf{R}_{++}^2|x_1x_2\\geq\\alpha\\}$ son convexos para cualquier $\\alpha$. No es cuasiconvexa en $\\textbf{R}_{++}^2$."
   ]
  },
  {
   "cell_type": "markdown",
   "id": "17da790a",
   "metadata": {},
   "source": [
    "c)$f(x_1,x_2) = \\frac{1}{x_1x_2}$ en $\\textbf{R}_{++}^2$"
   ]
  },
  {
   "cell_type": "markdown",
   "id": "e982c3eb",
   "metadata": {},
   "source": [
    "Tenemos que el hessiado de $f(x)$ está dado por: $\\nabla^2f(x_1,x_2)=\\frac{1}{x_1x_2}\\begin{bmatrix}\\frac{2}{x_1^2} & \\frac{1}{x_1x_2}\\\\\\frac{1}{x_1x_2} & \\frac{2}{x_2^2}\\end{bmatrix} \\geq 0$ en $\\textbf{R}_{++}^2$.\n",
    "\n",
    "Por lo tanto, es convexa y cuasiconvexa según el criterio de segundo orden."
   ]
  },
  {
   "cell_type": "markdown",
   "id": "58711ccf",
   "metadata": {},
   "source": [
    "d)$f(x_1,x_2)=\\frac{x_1}{x_2}$ en $\\textbf{R}_{++}^2$"
   ]
  },
  {
   "cell_type": "markdown",
   "id": "660aad1e",
   "metadata": {},
   "source": [
    "Tenemos que el hessiano está dado por: $\\nabla^2f(x_1,x_2)=\\begin{bmatrix}0 & \\frac{-1}{x_2^2}\\\\ \\frac{-1}{x_2^2} & \\frac{2x_1}{x_2^3}\\end{bmatrix}$ que no es ni semidefinida positiva ni semidefinida negativa. Por lo tanto no es ni convexa ni cóncava.\n",
    "\n",
    "Ahora bien, $\\{(x_1,x_2)\\in\\textbf{R}_{++}^2|\\frac{x_1}{x_2}\\leq\\alpha\\}$ es convexo en $\\textbf{R}_{++}^2$ y así mismo, $\\{(x_1,x_2)\\in\\textbf{R}_{++}^2|\\frac{x_1}{x_2}\\geq\\alpha\\}$ es convexo. Por lo tanto, $f$ es cuasiconvexa y cuasicóncava, es decir, cuasilinear."
   ]
  },
  {
   "cell_type": "markdown",
   "id": "d4379ddf",
   "metadata": {},
   "source": [
    "e)$f(x_1,x_2)=\\frac{x_1^2}{x_2}$ en $\\textbf{R}\\times\\textbf{R}_{++}$"
   ]
  },
  {
   "cell_type": "markdown",
   "id": "460f47a2",
   "metadata": {},
   "source": [
    "El hessiano está dado por: $\\nabla^2f(x_1,x_2)=\\begin{bmatrix}\\frac{2}{x_2} & \\frac{-2}{x_2^2}\\\\ \\frac{-2x_1}{x_2^2} & \\frac{2x_1^2}{x_2^3}\\end{bmatrix}$ = $(\\frac{2}{x_2})\\begin{bmatrix}1 & \\frac{-2x_1}{x_2}\\end{bmatrix}\\begin{bmatrix}1\\\\ \\frac{-2x_1}{x_2}\\end{bmatrix} \\geq 0$ Por lo tanto, $f$ es convexa."
   ]
  },
  {
   "cell_type": "markdown",
   "id": "56fdabb4",
   "metadata": {},
   "source": [
    "* **3.20**: Mostrar que las siguientes funciones $f: \\textbf{R}^n\\rightarrow\\textbf{R}$ son convexas."
   ]
  },
  {
   "cell_type": "markdown",
   "id": "d090ee4e",
   "metadata": {},
   "source": [
    "a)$f(x) = ||Ax-b||$,donde $A\\in\\textbf{R}^{m\\times n}$, $b\\in\\textbf{R}^m$, donde $||\\cdot||$ es una norma en $\\textbf{R}^m$."
   ]
  },
  {
   "cell_type": "markdown",
   "id": "a83ea59f",
   "metadata": {},
   "source": [
    "$f$ es convexa porque es la composición de una función afín y una norma, que es convexa."
   ]
  },
  {
   "cell_type": "markdown",
   "id": "58c0b4d1",
   "metadata": {},
   "source": [
    "b)$f(x) = -(\\det(A_0 + x_1A_1 + \\dotsm + x_nA_n))^{\\frac{1}{m}}$, en $\\{x|A_0 + x_1A_1 +\\dotsm + x_nA_n > 0\\}$, donde $A_i\\in\\textbf{S}^m$."
   ]
  },
  {
   "cell_type": "markdown",
   "id": "cea66e66",
   "metadata": {},
   "source": [
    "$f$ es la composición de $g(X)=-(\\det(X))^{\\frac{1}{m}}$ y una transformación afín. Para mostrar que $g$ es convexa, podemos utilizar la propiedad según la cual, una función $g$ es convexa si y sólo si la función $h(t) = g(x+tv)$ es convexa, es decir, si y sólo si $h(t) = -\\det(x+tV)^{\\frac{1}{m}}$ es convexa. "
   ]
  },
  {
   "cell_type": "markdown",
   "id": "15806d9c",
   "metadata": {},
   "source": [
    "c)$f(X) = \\textbf{tr}(A_0 + x_1A_1 + \\dotsm + x_nA_n)^{-1}$, en $\\{x|A_0 + x_1A_1 +\\dotsm + x_nA_n > 0\\}$, donde $A_i\\in\\textbf{S}^m$."
   ]
  },
  {
   "cell_type": "markdown",
   "id": "56ecbdc8",
   "metadata": {},
   "source": [
    "Sabiendo que $\\textbf{tr}(X^{-1})$ es convexa, $f$ es convexa por ser la composición de $\\textbf{tr}(X^{-1}) y una transformación afín."
   ]
  },
  {
   "cell_type": "markdown",
   "id": "3aede1f6",
   "metadata": {},
   "source": [
    "* **3.21** Mostrar que las siguientes funciones $f: \\textbf{R}^n\\rightarrow\\textbf{R}$ son convexas."
   ]
  },
  {
   "cell_type": "markdown",
   "id": "a350e789",
   "metadata": {},
   "source": [
    "a)$f(x)=\\max_{i=1,...,k}||A^{(i)}x - b^{(i)}||$, donde $A^{(i)}\\in\\textbf{R}^{m\\times n}$, $b^{(i)}\\in\\textbf{R}^m$ y $||\\cdot||$ es una norma en $\\textbf{R}^m$ "
   ]
  },
  {
   "cell_type": "markdown",
   "id": "c4d3fa6c",
   "metadata": {},
   "source": [
    "$f$ es el máximo punto a punto de funciones convexas, pues cada función $A^{(i)}x-b^{(i)}$ es una función afín, y la norma es una función convexa. Por el criterio del máximo punto a punto, concluimos que $f$ es convexa."
   ]
  },
  {
   "cell_type": "markdown",
   "id": "023c39eb",
   "metadata": {},
   "source": [
    "b)$f(x) = \\sum_{i=1}^r|x|_{[i]}$ en $\\textbf{R}^n$, donde $|x|$ denota el vector con $|x|_i = |x_i|$, y $|x|_{[i]}$ es la i-ésima componente más grande de $|x|$. Es decir, $|x|_{[1]}, |x|_{[2]},...,|x|_{[n]}$ son los valores absolutos de las componentes de $x$."
   ]
  },
  {
   "cell_type": "markdown",
   "id": "b3b81f13",
   "metadata": {},
   "source": [
    "Se puede ver que $f(x) = \\sum_{i=1}^r|x|_{[i]} = \\max_{1\\leq i_1<...<i_r\\leq n}|x_{i_1}+\\dotsm + |x_{i_r}|$ luego es el máximo punto a punto de funciones convexas, pues el valor absolutoi es convexo, y la suma no negativa de funciones convexas es convexa. Por el mismo criterio anterior, $f$ es convexa."
   ]
  },
  {
   "cell_type": "markdown",
   "id": "eb4ddbb5",
   "metadata": {},
   "source": [
    "* **3.22**: Mostrar que las siguientes funciones son convexas:"
   ]
  },
  {
   "cell_type": "markdown",
   "id": "3b3fd482",
   "metadata": {},
   "source": [
    "a)$f(x) = -\\log(-\\log(\\sum_{i=1}^me^{a_i^Tx+b_i}))$ en $\\textbf{dom}f = \\{x|\\sum_{i=1}^me^{a_i^Tx+b_i} < 1\\}$. Utilizar que $\\log(\\sum_{i=1}^ne^{y_1})$ es convexa."
   ]
  },
  {
   "cell_type": "markdown",
   "id": "3a19f92c",
   "metadata": {},
   "source": [
    "La función $f_1(x)=-\\log(\\sum_{i=1}^me^{a_i^Tx+b_i})$ es convexa por ser la composición entre $g(x) = \\log(\\sum_{i=1}^me^{x_j})$ y $h(x) = a_1^Tx + b_1$. Por consiguiente, $-f_1(x)$ es cóncava. La función $f_2(x)=-\\log x$ es convexa y no creciente, luego, por la propiedad que vimos sobre composición de funcones, $f(x)=f_2(-f_1(x))$ es convexa."
   ]
  },
  {
   "cell_type": "markdown",
   "id": "bc51b02d",
   "metadata": {},
   "source": [
    "b)$f(x,u,v) = -\\sqrt{uv-x^Tx}$ en $\\textbf{dom}f =\\{(x,u,v)|uv > x^Tx, u,v>0\\}$. Utilizar que $\\frac{x^Tx}{u}$ es convexa en $(x,u)$ para $u > 0$ y que $-\\sqrt{x_1x_2}$ es convexa en $\\textbf{R}_{++}^2$."
   ]
  },
  {
   "cell_type": "markdown",
   "id": "40a71cd3",
   "metadata": {},
   "source": [
    "La función $f$ es equivalente a $f(x,u,v) = -\\sqrt{u(v-\\frac{x^Tx}{u})}$. Ahora bien, la función $g(x_1,x_2) = -\\sqrt{x_1x_2}$ es convexa y no creciente en todo su dominio. Además, $g_1(x,u,v)=u$ y $g_2(x,u,v)=v - \\frac{x^Tx}{u}$ es cóncava. Luego $f(x,u,v) = g(g_1g_2(x,u,v))$ es convexa."
   ]
  },
  {
   "cell_type": "markdown",
   "id": "d7fa22d7",
   "metadata": {},
   "source": [
    "c)$f(x,u,v) = -\\log(uv - x^Tx)$ en $\\textbf{dom}f = \\{(x,u,v)|uv > x^Tx, u,v > 0\\}$."
   ]
  },
  {
   "cell_type": "markdown",
   "id": "39204eb2",
   "metadata": {},
   "source": [
    "Se puede expresar a $f$ como $f(x,u,v) = -\\log u -\\log(v - \\frac{x^Tx}{u})$. $g(u) = -\\log u$ es convexa en todo su dominio. La función $v-\\frac{x^Tx}{u}$ es cóncava porque $v$ es lineal, y $\\frac{x^Tx}{u}$ es convexa para $u>0$. Por ende, $\\frac{-x^Tx}{u}$ es cóncava y la suma no negativa de funciones cóncavas, es también cóncava. Así, $-\\log(v - \\frac{x^Tx}{u})$ es convexa, porque la composición de una función cóncava y en una función convexa no creciente es convexa. Por ende, por ser la suma no negativa de funciones convexas, $f$ es convexa."
   ]
  },
  {
   "cell_type": "markdown",
   "id": "cd834624",
   "metadata": {},
   "source": [
    "d)$f(x,t)=-(t^p-||x||_p^p)^{\\frac{1}{p}}$ donde $p>1$ y $\\textbf{dom}f = \\{(x,t)|t\\geq||x||_p\\}$. Utilizar que $||x||_p^p/u^{p-1}$ es convexa en $(x,u)$ para $u>0$, y que $-x^{\\frac{1}{p}}y^{1-\\frac{1}{p}}$ es convexa en $\\textbf{R}_+^2$."
   ]
  },
  {
   "cell_type": "markdown",
   "id": "87eae1ff",
   "metadata": {},
   "source": [
    "Se puede poner a $f$ como: $f(x,t) = -(t^{p-1}(t-\\frac{||x||_p^p}{t^{p-1}}))^{1-p}$ = $-t^{1-1/p}(t-\\frac{||x||_p^p}{t^{p-1}})^{1/p}$. Esto es la composición de $g(y_1,y_2) = -y_1^{1/p}y_2^{1-1/p}$ y $g_1(x,t) = t-\\frac{||x||_p^p}{t^{p-1}}$. $g$ es convexa y no creciente en todo su dominio, mientras que $g_1$ y $g_2$ son cóncavas, así que por la propiedad de composición, $f(x,t) = g(g_1,g_2(x,t))$ es convexa."
   ]
  },
  {
   "cell_type": "markdown",
   "id": "2ce23237",
   "metadata": {},
   "source": [
    "e)$f(x,t)=-\\log(t^p -||x||_p^p)$ donde $p>1$ y $\\textbf{dom}f = \\{(x,t)|t\\geq||x||_p\\}$. Utilizar que $||x||_p^p/u^{p-1}$ es convexa en $(x,u)$ para $u>0$."
   ]
  },
  {
   "cell_type": "markdown",
   "id": "09a97d26",
   "metadata": {},
   "source": [
    "$f$ se puede expresar como $f(x,t) = -\\log t^{p-1} - \\log(t-\\frac{||x||_p^p}{t^{p-1}})$ = $-(p-1)\\log t -\\log(t-\\frac{||x||_p^p}{t^{p-1}})$.\n",
    "\n",
    "Ahora bien, $-(p-1)\\log t$ es convexa, pues $p>1$ y $\\log t$ es cóncava. También se tiene que $-\\log(t-\\frac{||x||_p^p}{t^{p-1}})$ es convexa, pues es la composición de una función cóncava, en una convexa no creciente. Concluimos entonces que $f$ es convexa."
   ]
  },
  {
   "cell_type": "markdown",
   "id": "92f079e1",
   "metadata": {},
   "source": [
    "* **3.29**: Una función convexa $f:\\textbf{R}^n\\rightarrow\\textbf{R}$, se llama \"linear a partes\" si existe una partición de $\\textbf{R}^n$ como $\\textbf{R}^n = X_1\\cup X_2\\cup \\dotsm \\cup X_L$, donde $\\textbf{int}X_i \\neq \\emptyset$ y $\\textbf{int}X_i\\cap \\textbf{int}X_j = \\emptyset$ para $i\\neq j$, y también una familia de funciones afines $a_i^Tx +b_i$, tales que $f(x) = a_i^Tx+b_i$ para $x\\in X_i$. Mostrar que tal función tiene la forma $f(x) = \\max\\{a_1^Tx + b_1,...,a^T_Lx +b_L\\}$."
   ]
  },
  {
   "cell_type": "markdown",
   "id": "9974e461",
   "metadata": {},
   "source": [
    "Puesto que $f$ es convexa en su dominio, tenemos que $f(y+t(x-y))\\leq f(y) + t(f(x)-f(y))$ o también, $f(x)\\geq f(y) + \\frac{f(y+t(x-y)) - f(y)}{t}$, para $0\\leq t\\leq 1$. Tomamos $x\\in X_i$, y cualquier $y\\in\\textbf{X_j}$ para $i\\neq j$, y un $t$ apropiado tal que $y+t(x-y)\\in X_j$. Reemplazando en la desigualdad, $a_i^Tx + b_i\\geq a_j^Ty + b_j + \\frac{a_j^T(y+t(x-y))+b_j - a_j^Ty - b_j}{t}$ = $a_j^Tx + b_j$.\n",
    "\n",
    "Como lo anterior es válido para cualquier $j$ diferente a $i$, se tiene en general que $a_i^Tx+b_i\\geq \\max_{i=1,...,L}\\{a_j^Tx+b_j\\}$. Gracias a esto, se ve que $f(x) = a_i^Tx+b_i = \\max_{i=1,...,L}\\{a_j^Tx + b_j\\}$, para $x\\in X_i$."
   ]
  },
  {
   "cell_type": "markdown",
   "id": "c141b459",
   "metadata": {},
   "source": [
    "* **3.32**: Probar que:"
   ]
  },
  {
   "cell_type": "markdown",
   "id": "5c5d4bd2",
   "metadata": {},
   "source": [
    "a) Si $f$ y $g$ son convexas, ambas son no crecientes (o no decrecientes), y son positivas en un intervalo, entonces $fg$ es convexa."
   ]
  },
  {
   "cell_type": "markdown",
   "id": "30c7d9c1",
   "metadata": {},
   "source": [
    "Como $f$ y $g$ son convexas y positivas, $f(tx + (1-t)y)g(tx + (1-t)y)\\leq (tf(x) + (1-t)f(y))(tg(x) + (1-t)g(y))$ = $ tf(x)g(x) + (1-t)f(y)g(y) + t(1-t)(f(y)-f(x))(g(x)-g(y))$ para $0\\leq t\\leq 1$.\n",
    "\n",
    "Como $f$ y $g$ son ambas crecientes o decrecientes por hipótesis, entonces $t(1-t)(f(y)-f(x))(g(x)-g(y))$ es cero o negativo, luego se tiene que $f(tx + (1-t)y)g(tx + (1-t)y)\\leq tf(x)g(x) + (1-t)f(y)g(y)$, lo que significa que $fg$ es convexa."
   ]
  },
  {
   "cell_type": "markdown",
   "id": "c5ad9d44",
   "metadata": {},
   "source": [
    "b) Si $f,g$ son cóncavas, positivas, y una es no creciente y la otra es no decreciente, entonces $fg$ es cóncava."
   ]
  },
  {
   "cell_type": "markdown",
   "id": "d588e3a8",
   "metadata": {},
   "source": [
    "Puesto que $f$ y $g$ son cóncavas y positivas, se cumple que $f(tx + (1-t)y)g(tx + (1-t)y) > (tf(x) + (1-t)f(y))(tg(x) + (1-t)g(y))$ = $ tf(x)g(x) + (1-t)f(y)g(y) + t(1-t)(f(y)-f(x))(g(x)-g(y))$ para $0\\leq t\\leq 1$.\n",
    "\n",
    "Como $f$ y $g$ son una decreciente y la otra creciente, entonces, en cualquier caso, $t(1-t)(f(y)-f(x))(g(x)-g(y)) > 0$ por lo que $f(tx + (1-t)y)g(tx + (1-t)y) > tf(x)g(x) + (1-t)f(y)g(y)$ y así, $fg$ es cóncava."
   ]
  },
  {
   "cell_type": "markdown",
   "id": "fd7b4b3e",
   "metadata": {},
   "source": [
    "c) Si $f$ es convexa, no decreciente y positiva, y $g$ es cóncava, no creciente y positiva, entonces $f/g$ es convexa."
   ]
  },
  {
   "cell_type": "markdown",
   "id": "a8320373",
   "metadata": {},
   "source": [
    "Notemos que $1/g$ es convexa porque es la composición de $g$, que es cóncava y positiva, y $h(x) = 1/x$ una función convexa no creciente en su dominio positivo. Así, $1/g$ es convexa, positiva y no decreciente, como $f$. Por ende, por lo visto en el apartado a), $f/g$ es convexa."
   ]
  },
  {
   "cell_type": "markdown",
   "id": "a4b57b28",
   "metadata": {},
   "source": [
    "* **3.49**: Probar que las siguientes funciones son log-cóncavas:"
   ]
  },
  {
   "cell_type": "markdown",
   "id": "e5a91241",
   "metadata": {},
   "source": [
    "a) Función logística: $f(x) = e^x/(1+e^x)$ con $\\textbf{dom} f = \\textbf{R}$."
   ]
  },
  {
   "cell_type": "markdown",
   "id": "53d4cb4e",
   "metadata": {},
   "source": [
    "Se tiene que $\\log(e^x/(1+e^x)) = x - \\log(1+e^x)$. Ahora, $g(x) = x$ es cóncava, y $-\\log(1+e^x)$ es cóncava, pues $\\log(1+e^x)$ es convexa. Por lo tanto, $f$ es log-cóncava."
   ]
  },
  {
   "cell_type": "markdown",
   "id": "4565e7f4",
   "metadata": {},
   "source": [
    "b) Media armónica: $f(x) = \\frac{1}{1/x_1 + \\dotsm + 1/x_n}$, con $\\textbf{dom}f = \\textbf{R}_{++}^n$."
   ]
  },
  {
   "cell_type": "markdown",
   "id": "5ef8b2dd",
   "metadata": {},
   "source": [
    "Podríamos intentarlo con el criterio de la segunda derivada, con $h(x)=\\log f(x)$ así:\n",
    "\n",
    "$\\frac{\\partial^2h(x)}{\\partial x_i^2} = \\frac{-2x_i^3}{1/x_1+\\dotsm + 1/x_m}+\\frac{1/x_i^4}{(1/x_1+\\dotsm + 1/x_n)^2}$ y $\\frac{\\partial^2h(x)}{\\partial x_i\\partial x_j} = \\frac{1/(x_i^2x_j^2)}{(1/x_1 +\\dotsm + 1/x_n)^2}$, con $(i\\neq q)$.\n",
    "\n",
    "Faltaría ver que efectivamente cada una de estas derivadas es positiva..."
   ]
  },
  {
   "cell_type": "markdown",
   "id": "55719281",
   "metadata": {},
   "source": [
    "* **3.54**: La siguiente función, $f(x) = \\frac{1}{\\sqrt{2\\pi}}\\int_{-\\infty}^{x}e^{-t^2/2}dt$ es log-cóncava. Vamos a probar que $f$ es log-cóncava, teniendo en cuenta que $f$ es log-cóncava si y sólo si $f''(x)f(x)\\leq f'(x)^2$ para todo $x$."
   ]
  },
  {
   "cell_type": "markdown",
   "id": "269f9838",
   "metadata": {},
   "source": [
    "a) Verificar que $f''(x)f(x)\\leq f'(x)^2$ para $x\\geq 0$."
   ]
  },
  {
   "cell_type": "markdown",
   "id": "0cee5f41",
   "metadata": {},
   "source": [
    "Tenemos que $f'(x) = \\frac{e^{-x^2/2}}{\\sqrt{2\\pi}}$ y que $f''(x) = \\frac{-xe^{-x^/2}}{\\sqrt{2\\pi}}$. Por lo tanto, $f''(x)\\leq 0$ y $f(x)>0$ para $x\\geq 0$. Luego, en este caso, $f''(x)f(x)\\leq 0\\leq f'(x)^2$."
   ]
  },
  {
   "cell_type": "markdown",
   "id": "ef1a0bbe",
   "metadata": {},
   "source": [
    "b) Verificar que para cualquier $t$ y $x$ se tiene que $t^2/2\\geq -x^2/2 + xt$."
   ]
  },
  {
   "cell_type": "markdown",
   "id": "2d6f30ed",
   "metadata": {},
   "source": [
    "Puesto que $g(t) = t^2/2$ es convexa, se tiene la desigualdad: $g(t)\\geq g(x) + g'(x)(t-x)$, es decir, $\\frac{t^2}{2}\\geq \\frac{x^2}{2} + x(t-x) = \\frac{-x^2}{2} + xt$."
   ]
  },
  {
   "cell_type": "markdown",
   "id": "bfb9eac1",
   "metadata": {},
   "source": [
    "c) Usando la parte b) mostrar que $e^{-t^2/2}\\leq e^{x^2/2-xt}$. Concluir que, para $x<0$, $\\int_{-\\infty}^{x}e^{-t^2/2}dt\\leq e^{x^2/2}\\int_{-\\infty}^{x}e^{-xt}dt$."
   ]
  },
  {
   "cell_type": "markdown",
   "id": "fc6ab74d",
   "metadata": {},
   "source": [
    "De b), se toman lo exponentes a cada lado: $e^{-t^2/2}\\leq e^{x^2/2 - xt}$, y se integra respecto a $t$ a ambos lados de la desigualdad. Así se tiene que: $\\int_{-\\infty}^{x}e^{-t^2/2}dt\\leq e^{x^2/2}\\int_{-\\infty}^{x}e^{-xt}dt$ para $x<0$."
   ]
  },
  {
   "cell_type": "markdown",
   "id": "8566b55b",
   "metadata": {},
   "source": [
    "d) Usar la parte c) para verificar que $f''(x)f(x)\\leq f'(x)^2$ para $x\\leq 0$."
   ]
  },
  {
   "cell_type": "markdown",
   "id": "61226fc4",
   "metadata": {},
   "source": [
    "Resolviendo la integral del lado derecho, tenemos que $\\int_{-\\infty}^{x}e^{-t^2/2}dt\\leq e^{x^2/2}\\cdot\\frac{e^{-x^2/2}}{-x}$ o $\\int_{-\\infty}^{x}e^{-t^2/2}dt\\leq \\frac{e^{-x^2/2}}{-x}$.\n",
    "\n",
    "Si se regresa a ver las expresiones para las dereivadas de $f$, se ve que esto equivale a decir que $f''(x)f(x)\\leq f'(x)^2$."
   ]
  }
 ],
 "metadata": {
  "kernelspec": {
   "display_name": "Julia 1.7.2",
   "language": "julia",
   "name": "julia-1.7"
  },
  "language_info": {
   "file_extension": ".jl",
   "mimetype": "application/julia",
   "name": "julia",
   "version": "1.7.2"
  }
 },
 "nbformat": 4,
 "nbformat_minor": 5
}
